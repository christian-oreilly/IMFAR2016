{
 "cells": [
  {
   "cell_type": "code",
   "execution_count": 1,
   "metadata": {
    "collapsed": false
   },
   "outputs": [],
   "source": [
    "%matplotlib inline\n",
    "\n",
    "import numpy as np\n",
    "from scipy.io import loadmat\n",
    "import matplotlib.pylab as plt\n",
    "import re\n",
    "from glob import glob\n",
    "import pandas as pd\n",
    "import sys\n",
    "from statsmodels.formula.api import ols\n",
    "import statsmodels.stats.anova as statsAnova\n",
    "from IPython.display import clear_output\n",
    "import seaborn as sns\n",
    "\n",
    "convertedSubjects = [\"622\", \"623\", \"624\", \"628\", \"636\", \"637\", \"646\", \"647\", \"649\", \"651\", \"652\", \"653\"]\n",
    "nbScout = 90\n",
    "conditions = [\"Face_Averted\", \"Face_Direct\", \"Noise\", \"Shift_Averted\", \"Shift_Direct\"]\n",
    "path = 'E:/brainstorm_db/AutismMayada/data/'"
   ]
  },
  {
   "cell_type": "code",
   "execution_count": 2,
   "metadata": {
    "collapsed": false
   },
   "outputs": [],
   "source": [
    "# Utilitary function to extract connectivity information from Brainstorm connectivity files\n",
    "def getConnMatrix(mat):\n",
    "        \n",
    "    N = max(mat[\"RefRowNames\"].shape)    \n",
    "    M = max(mat[\"RowNames\"].shape)    \n",
    "    assert(N==M)\n",
    "\n",
    "    a = np.zeros((N, N), dtype=np.complex)\n",
    "    indLow = np.tril_indices(N, 0, M)\n",
    "    a[indLow] = mat[\"TF\"][:, 0]\n",
    "    \n",
    "    dia = np.diag(np.diagonal(np.abs(a)))\n",
    "    a = np.abs(np.flipud(np.rot90(a)))+ np.abs(a)-2*dia\n",
    "\n",
    "    print(N, M, a.shape)\n",
    "    return np.reshape(a, (a.shape[0], a.shape[1], 1))"
   ]
  },
  {
   "cell_type": "markdown",
   "metadata": {},
   "source": [
    "Getting the statistics for number of epochs available\n",
    "========================="
   ]
  },
  {
   "cell_type": "code",
   "execution_count": 3,
   "metadata": {
    "collapsed": false
   },
   "outputs": [],
   "source": [
    "subjects   = []\n",
    "epochConditions = []\n",
    "groups = []\n",
    "for fileName in glob(path + '*/*/data_*_notch_montage.mat'): \n",
    "    condition = [c for c in conditions if c in fileName][0]\n",
    "    epochConditions.append(condition)\n",
    "    subject = re.search(r'\\d{3}', fileName).group(0)\n",
    "    subjects.append(subject)\n",
    "    group = subject[0]\n",
    "    if subject in convertedSubjects:\n",
    "        group = \"5\"\n",
    "    groups.append(group)"
   ]
  },
  {
   "cell_type": "code",
   "execution_count": 4,
   "metadata": {
    "collapsed": false
   },
   "outputs": [
    {
     "data": {
      "text/html": [
       "<div style=\"max-height:1000px;max-width:1500px;overflow:auto;\">\n",
       "<table border=\"1\" class=\"dataframe\">\n",
       "  <thead>\n",
       "    <tr>\n",
       "      <th></th>\n",
       "      <th colspan=\"4\" halign=\"left\">0</th>\n",
       "    </tr>\n",
       "    <tr>\n",
       "      <th></th>\n",
       "      <th>mean</th>\n",
       "      <th>std</th>\n",
       "      <th>min</th>\n",
       "      <th>max</th>\n",
       "    </tr>\n",
       "    <tr>\n",
       "      <th>epochConditions</th>\n",
       "      <th></th>\n",
       "      <th></th>\n",
       "      <th></th>\n",
       "      <th></th>\n",
       "    </tr>\n",
       "  </thead>\n",
       "  <tbody>\n",
       "    <tr>\n",
       "      <th>Face_Averted</th>\n",
       "      <td>31.893333</td>\n",
       "      <td>10.217332</td>\n",
       "      <td>10</td>\n",
       "      <td>70</td>\n",
       "    </tr>\n",
       "    <tr>\n",
       "      <th>Face_Direct</th>\n",
       "      <td>31.893333</td>\n",
       "      <td>10.134999</td>\n",
       "      <td>10</td>\n",
       "      <td>70</td>\n",
       "    </tr>\n",
       "    <tr>\n",
       "      <th>Noise</th>\n",
       "      <td>44.533333</td>\n",
       "      <td>14.133852</td>\n",
       "      <td>9</td>\n",
       "      <td>94</td>\n",
       "    </tr>\n",
       "    <tr>\n",
       "      <th>Shift_Averted</th>\n",
       "      <td>126.586667</td>\n",
       "      <td>40.783573</td>\n",
       "      <td>41</td>\n",
       "      <td>283</td>\n",
       "    </tr>\n",
       "    <tr>\n",
       "      <th>Shift_Direct</th>\n",
       "      <td>127.040000</td>\n",
       "      <td>40.507403</td>\n",
       "      <td>37</td>\n",
       "      <td>278</td>\n",
       "    </tr>\n",
       "  </tbody>\n",
       "</table>\n",
       "</div>"
      ],
      "text/plain": [
       "                          0                    \n",
       "                       mean        std min  max\n",
       "epochConditions                                \n",
       "Face_Averted      31.893333  10.217332  10   70\n",
       "Face_Direct       31.893333  10.134999  10   70\n",
       "Noise             44.533333  14.133852   9   94\n",
       "Shift_Averted    126.586667  40.783573  41  283\n",
       "Shift_Direct     127.040000  40.507403  37  278"
      ]
     },
     "execution_count": 4,
     "metadata": {},
     "output_type": "execute_result"
    },
    {
     "data": {
      "image/png": "[encoded data removed]",
      "text/plain": [
       "<matplotlib.figure.Figure at 0x42410f0>"
      ]
     },
     "metadata": {},
     "output_type": "display_data"
    }
   ],
   "source": [
    "datSubject = {\"subject\":subjects, \"epochConditions\":epochConditions}\n",
    "df = pd.DataFrame(datSubject).groupby([\"subject\", \"epochConditions\"]).size().reset_index() #agg('count')\n",
    "sns.violinplot(x=\"epochConditions\", y=0, data=pd.DataFrame(df))\n",
    "pd.DataFrame(df).groupby(\"epochConditions\").agg([\"mean\", \"std\", \"min\", \"max\"])"
   ]
  },
  {
   "cell_type": "markdown",
   "metadata": {},
   "source": [
    "Showing that there is not big between-group differences in sample/subject\n",
    "========="
   ]
  },
  {
   "cell_type": "code",
   "execution_count": 5,
   "metadata": {
    "collapsed": false
   },
   "outputs": [
    {
     "data": {
      "text/html": [
       "<div style=\"max-height:1000px;max-width:1500px;overflow:auto;\">\n",
       "<table border=\"1\" class=\"dataframe\">\n",
       "  <thead>\n",
       "    <tr>\n",
       "      <th></th>\n",
       "      <th></th>\n",
       "      <th colspan=\"4\" halign=\"left\">0</th>\n",
       "    </tr>\n",
       "    <tr>\n",
       "      <th></th>\n",
       "      <th></th>\n",
       "      <th>mean</th>\n",
       "      <th>std</th>\n",
       "      <th>min</th>\n",
       "      <th>max</th>\n",
       "    </tr>\n",
       "    <tr>\n",
       "      <th>epochConditions</th>\n",
       "      <th>groups</th>\n",
       "      <th></th>\n",
       "      <th></th>\n",
       "      <th></th>\n",
       "      <th></th>\n",
       "    </tr>\n",
       "  </thead>\n",
       "  <tbody>\n",
       "    <tr>\n",
       "      <th rowspan=\"3\" valign=\"top\">Face_Averted</th>\n",
       "      <th>5</th>\n",
       "      <td>31.545455</td>\n",
       "      <td>10.395803</td>\n",
       "      <td>17</td>\n",
       "      <td>52</td>\n",
       "    </tr>\n",
       "    <tr>\n",
       "      <th>6</th>\n",
       "      <td>31.333333</td>\n",
       "      <td>9.972426</td>\n",
       "      <td>10</td>\n",
       "      <td>64</td>\n",
       "    </tr>\n",
       "    <tr>\n",
       "      <th>7</th>\n",
       "      <td>32.325000</td>\n",
       "      <td>10.549973</td>\n",
       "      <td>10</td>\n",
       "      <td>70</td>\n",
       "    </tr>\n",
       "    <tr>\n",
       "      <th rowspan=\"3\" valign=\"top\">Face_Direct</th>\n",
       "      <th>5</th>\n",
       "      <td>32.181818</td>\n",
       "      <td>10.176622</td>\n",
       "      <td>18</td>\n",
       "      <td>52</td>\n",
       "    </tr>\n",
       "    <tr>\n",
       "      <th>6</th>\n",
       "      <td>31.250000</td>\n",
       "      <td>9.883011</td>\n",
       "      <td>11</td>\n",
       "      <td>64</td>\n",
       "    </tr>\n",
       "    <tr>\n",
       "      <th>7</th>\n",
       "      <td>32.200000</td>\n",
       "      <td>10.505676</td>\n",
       "      <td>10</td>\n",
       "      <td>70</td>\n",
       "    </tr>\n",
       "    <tr>\n",
       "      <th rowspan=\"3\" valign=\"top\">Noise</th>\n",
       "      <th>5</th>\n",
       "      <td>47.181818</td>\n",
       "      <td>15.124934</td>\n",
       "      <td>26</td>\n",
       "      <td>76</td>\n",
       "    </tr>\n",
       "    <tr>\n",
       "      <th>6</th>\n",
       "      <td>44.708333</td>\n",
       "      <td>14.783890</td>\n",
       "      <td>11</td>\n",
       "      <td>94</td>\n",
       "    </tr>\n",
       "    <tr>\n",
       "      <th>7</th>\n",
       "      <td>43.700000</td>\n",
       "      <td>13.739705</td>\n",
       "      <td>9</td>\n",
       "      <td>75</td>\n",
       "    </tr>\n",
       "    <tr>\n",
       "      <th rowspan=\"3\" valign=\"top\">Shift_Averted</th>\n",
       "      <th>5</th>\n",
       "      <td>126.000000</td>\n",
       "      <td>43.067389</td>\n",
       "      <td>70</td>\n",
       "      <td>206</td>\n",
       "    </tr>\n",
       "    <tr>\n",
       "      <th>6</th>\n",
       "      <td>123.833333</td>\n",
       "      <td>38.566337</td>\n",
       "      <td>41</td>\n",
       "      <td>249</td>\n",
       "    </tr>\n",
       "    <tr>\n",
       "      <th>7</th>\n",
       "      <td>128.400000</td>\n",
       "      <td>42.368832</td>\n",
       "      <td>42</td>\n",
       "      <td>283</td>\n",
       "    </tr>\n",
       "    <tr>\n",
       "      <th rowspan=\"3\" valign=\"top\">Shift_Direct</th>\n",
       "      <th>5</th>\n",
       "      <td>128.090909</td>\n",
       "      <td>43.452168</td>\n",
       "      <td>70</td>\n",
       "      <td>206</td>\n",
       "    </tr>\n",
       "    <tr>\n",
       "      <th>6</th>\n",
       "      <td>125.041667</td>\n",
       "      <td>39.048998</td>\n",
       "      <td>43</td>\n",
       "      <td>251</td>\n",
       "    </tr>\n",
       "    <tr>\n",
       "      <th>7</th>\n",
       "      <td>127.950000</td>\n",
       "      <td>41.550062</td>\n",
       "      <td>37</td>\n",
       "      <td>278</td>\n",
       "    </tr>\n",
       "  </tbody>\n",
       "</table>\n",
       "</div>"
      ],
      "text/plain": [
       "                                 0                    \n",
       "                              mean        std min  max\n",
       "epochConditions groups                                \n",
       "Face_Averted    5        31.545455  10.395803  17   52\n",
       "                6        31.333333   9.972426  10   64\n",
       "                7        32.325000  10.549973  10   70\n",
       "Face_Direct     5        32.181818  10.176622  18   52\n",
       "                6        31.250000   9.883011  11   64\n",
       "                7        32.200000  10.505676  10   70\n",
       "Noise           5        47.181818  15.124934  26   76\n",
       "                6        44.708333  14.783890  11   94\n",
       "                7        43.700000  13.739705   9   75\n",
       "Shift_Averted   5       126.000000  43.067389  70  206\n",
       "                6       123.833333  38.566337  41  249\n",
       "                7       128.400000  42.368832  42  283\n",
       "Shift_Direct    5       128.090909  43.452168  70  206\n",
       "                6       125.041667  39.048998  43  251\n",
       "                7       127.950000  41.550062  37  278"
      ]
     },
     "execution_count": 5,
     "metadata": {},
     "output_type": "execute_result"
    }
   ],
   "source": [
    "datSubject = {\"subject\":subjects, \"epochConditions\":epochConditions, \"groups\":groups}\n",
    "df = pd.DataFrame(datSubject).groupby([\"subject\", \"epochConditions\", \"groups\"]).size().reset_index() #agg('count')\n",
    "pd.DataFrame(df).groupby([\"epochConditions\", \"groups\"]).agg([\"mean\", \"std\", \"min\", \"max\"])"
   ]
  },
  {
   "cell_type": "code",
   "execution_count": 6,
   "metadata": {
    "collapsed": false
   },
   "outputs": [
    {
     "name": "stdout",
     "output_type": "stream",
     "text": [
      "2224 / 2224\n"
     ]
    }
   ],
   "source": [
    "rowNames = []\n",
    "results={}\n",
    "\n",
    "files   = glob(path + '*/*/timefreq_connectn_plv_*.mat')\n",
    "nbFiles = len(files)\n",
    "subjects   = []\n",
    "epochConditions = []\n",
    "groups     = [] \n",
    "for i, conFileName in enumerate(files): \n",
    "\n",
    "    mat = loadmat(conFileName)\n",
    "    if len(mat[\"RowNames\"])  == nbScout:      \n",
    "        rowNames = mat[\"RowNames\"]\n",
    "        dataFile = mat[\"DataFile\"][0]\n",
    "        condition = [c for c in conditions if c in dataFile][0]\n",
    "        epochConditions.append(condition)\n",
    "        subject = re.search(r'\\d{3}', dataFile).group(0)\n",
    "        subjects.append(subject)\n",
    "        group = subject[0]\n",
    "        if subject in convertedSubjects:\n",
    "            group = \"5\"\n",
    "        groups.append(group)\n",
    "        band = mat[\"Freqs\"][0][1][0]\n",
    "        bandMat = getConnMatrix(mat)\n",
    "        if (group, condition, band) in results:\n",
    "            results[(group, condition, band)] = np.concatenate((results[(group, condition, band)], bandMat), axis=2)\n",
    "        else:\n",
    "            results[(group, condition, band)] = bandMat\n",
    "\n",
    "    clear_output()\n",
    "    print(i, '/', len(files)-1) #N-1)\n",
    "    sys.stdout.flush()\n",
    "    \n",
    "rowNames = [rowName[0][0] for rowName in rowNames]   "
   ]
  },
  {
   "cell_type": "code",
   "execution_count": 7,
   "metadata": {
    "collapsed": false
   },
   "outputs": [
    {
     "name": "stdout",
     "output_type": "stream",
     "text": [
      "N for HRA-ASD: 11\n",
      "N for HRA-noASD: 24\n",
      "N for Controls: 40\n"
     ]
    }
   ],
   "source": [
    "datSubject = {\"subject\":subjects, \"groups\":[int(g) for g in groups]}\n",
    "groupsSizeDat = pd.DataFrame(datSubject).groupby(\"subject\").median()\n",
    "print(\"N for HRA-ASD:\", sum(groupsSizeDat[\"groups\"] == 5))\n",
    "print(\"N for HRA-noASD:\", sum(groupsSizeDat[\"groups\"] == 6))\n",
    "print(\"N for Controls:\", sum(groupsSizeDat[\"groups\"] == 7))"
   ]
  },
  {
   "cell_type": "code",
   "execution_count": 8,
   "metadata": {
    "collapsed": false
   },
   "outputs": [
    {
     "name": "stdout",
     "output_type": "stream",
     "text": [
      "Bands:\n",
      "1, 4\n",
      "12, 16\n",
      "16, 30\n",
      "30, 100\n",
      "4, 8\n",
      "8, 12\n"
     ]
    }
   ],
   "source": [
    "bands = np.unique([key[2] for key in results.keys()])\n",
    "print(\"Bands:\")\n",
    "for band in bands:\n",
    "    print(band)"
   ]
  },
  {
   "cell_type": "markdown",
   "metadata": {},
   "source": [
    "Generating the violin plot figure\n",
    "=========================="
   ]
  },
  {
   "cell_type": "code",
   "execution_count": 9,
   "metadata": {
    "collapsed": false
   },
   "outputs": [],
   "source": [
    "import pandas as pd\n",
    "dataReg2 = {\"con\":[], \"group\":[], \"region\":[], \"condition\":[], \"band\":[]} \n",
    "for condition in conditions:               \n",
    "    for band in bands:\n",
    "        for group in (\"5\", \"6\", \"7\"):\n",
    "            data = results[(group, condition, band)]\n",
    "            cons = np.median(data, axis=1)\n",
    "            nbReg, nbSub = cons.shape\n",
    "            dataReg2[\"con\"].extend(cons.flatten())\n",
    "            dataReg2[\"region\"].extend(rowNames*nbSub)\n",
    "            dataReg2[\"group\"].extend([group]*nbReg*nbSub)\n",
    "            dataReg2[\"condition\"].extend([condition]*nbReg*nbSub)\n",
    "            dataReg2[\"band\"].extend([band]*nbReg*nbSub)\n",
    "\n",
    "dataReg2 = pd.DataFrame(dataReg2)\n"
   ]
  },
  {
   "cell_type": "code",
   "execution_count": 24,
   "metadata": {
    "collapsed": false
   },
   "outputs": [
    {
     "data": {
      "image/png": "[encoded data removed]",
      "text/plain": [
       "<matplotlib.figure.Figure at 0x917b7f0>"
      ]
     },
     "metadata": {},
     "output_type": "display_data"
    }
   ],
   "source": [
    "condition = 'Face_Direct'\n",
    "lats = ['Left', 'Right']\n",
    "plotRegions = [\"Thalamus\", \"Middle temporal gyrus\", \"Inferior frontal gyrus, triangular part\"]\n",
    "plt.rcParams['figure.figsize'] = (10, 10)\n",
    "plt.rcParams['figure.dpi'] = 300\n",
    "f, axes = plt.subplots(len(plotRegions), len(lats), sharex='col', sharey='row')\n",
    "band = '1, 4'\n",
    "\n",
    "ymin = [0.2, 0.4, 0.2]\n",
    "ymax = [1.1, 1.1, 1.1]\n",
    "for i, region_part in enumerate(plotRegions):\n",
    "    for j, lat in enumerate(lats):\n",
    "        region = lat + \" \" + region_part\n",
    "        dataTmp = dataReg2[(dataReg2[\"band\"]==band) & \n",
    "                                    (dataReg2[\"condition\"]==condition) &\n",
    "                                    (dataReg2[\"region\"] == region)]    \n",
    "    \n",
    "        while(1):\n",
    "            rmodel = ols(formula = 'con ~ group', data=dataTmp).fit()\n",
    "            test = rmodel.outlier_test()\n",
    "            outliers = [(dataTmp.irow(i)[\"con\"], dataTmp.irow(i)[\"group\"]) \n",
    "                                    for i,t in enumerate(test.icol(2)) if t < 0.5]\n",
    "            if len(outliers) == 0:\n",
    "                break\n",
    "            for con_outlier, group_outlier in outliers:\n",
    "                dataTmp = dataTmp[np.logical_not((dataTmp.group == group_outlier) & \n",
    "                                                 (dataTmp.con == con_outlier))]\n",
    "        \n",
    "        \n",
    "        ax = axes[i, j]\n",
    "        sns.violinplot(x=\"group\", y=\"con\",\n",
    "                       data=dataTmp, order=[\"5\", \"7\", \"6\"],\n",
    "                       ax=ax)\n",
    "        ax.set_title(region)\n",
    "        ax.set_ylim(ymin[i], ymax[i])\n",
    "        ax.set_xticklabels([\"at-risk-ASD\", \"control\", \"at-risk-noASD\"])\n",
    "        ax.set_ylabel(\"phase-locking value\")\n",
    "        ax.set_xlabel(\"\")\n",
    "        \n",
    "f.savefig('C:/Users/Orechr/Dropbox/Publications (current)/Conferences/IMFAR 2016/connectivity.svg', dpi=300)"
   ]
  },
  {
   "cell_type": "markdown",
   "metadata": {
    "collapsed": true
   },
   "source": [
    "Generate the tables\n",
    "======================"
   ]
  },
  {
   "cell_type": "code",
   "execution_count": 10,
   "metadata": {
    "collapsed": false
   },
   "outputs": [],
   "source": [
    "def generateTables(group1, group2, condition = 'Face_Direct', band = '1, 4'):\n",
    "\n",
    "    condition = 'Face_Direct'\n",
    "    band      = '1, 4'\n",
    "    pvalues = []\n",
    "    tvalues = []\n",
    "    mean1 = []\n",
    "    mean2 = []\n",
    "    std1 = []\n",
    "    std2 = []\n",
    "    for region in rowNames:\n",
    "        dataTmp = dataReg2[(dataReg2[\"band\"]==band) & \n",
    "                            (dataReg2[\"condition\"]==condition) &\n",
    "                            (dataReg2[\"region\"]==region) &\n",
    "                            np.in1d(dataReg2[\"group\"], [group1, group2])]\n",
    "\n",
    "        while(1):\n",
    "            rmodel = ols(formula = 'con ~ group', data=dataTmp).fit()\n",
    "            test = rmodel.outlier_test()\n",
    "            outliers = [(dataTmp.irow(i)[\"con\"], dataTmp.irow(i)[\"group\"]) \n",
    "                                    for i,t in enumerate(test.icol(2)) if t < 0.5]\n",
    "            if len(outliers) == 0:\n",
    "                break\n",
    "            for con_outlier, group_outlier in outliers:\n",
    "                dataTmp = dataTmp[np.logical_not((dataTmp.group == group_outlier) & \n",
    "                                                 (dataTmp.con == con_outlier))]\n",
    "\n",
    "\n",
    "\n",
    "        pvalues.append(statsAnova.anova_lm(rmodel, typ=2)[\"PR(>F)\"][0])\n",
    "        tvalues.append(rmodel.tvalues[1])\n",
    "        mean1.append(dataTmp.groupby(\"group\").mean()[\"con\"][0])\n",
    "        mean2.append(dataTmp.groupby(\"group\").mean()[\"con\"][1])\n",
    "        std1.append(dataTmp.groupby(\"group\").std()[\"con\"][0])\n",
    "        std2.append(dataTmp.groupby(\"group\").std()[\"con\"][1])\n",
    "\n",
    "    inds = np.argsort(pvalues)    \n",
    "    inds = inds[np.array(pvalues)[inds] < 0.0065]\n",
    "    list1 = np.array(rowNames)[inds]\n",
    "    print(pd.DataFrame(dict(region=list1, std1=np.array(std1)[inds], std2=np.array(std2)[inds], \n",
    "                            mean1=np.array(mean1)[inds], mean2=np.array(mean2)[inds], \n",
    "                            pvalues=np.array(pvalues)[inds], tvalues=np.array(tvalues)[inds])))"
   ]
  },
  {
   "cell_type": "code",
   "execution_count": 11,
   "metadata": {
    "collapsed": false
   },
   "outputs": [
    {
     "name": "stdout",
     "output_type": "stream",
     "text": [
      "HRA-ASD/Control comparison\n",
      "      mean1     mean2       pvalues  \\\n",
      "0  0.638521  0.843885  6.851506e-07   \n",
      "1  0.678366  0.822156  6.812853e-05   \n",
      "2  0.716794  0.840051  1.859623e-04   \n",
      "3  0.603160  0.770657  8.449368e-04   \n",
      "4  0.717312  0.819251  1.745099e-03   \n",
      "5  0.628252  0.797342  1.889676e-03   \n",
      "6  0.718315  0.819951  6.469550e-03   \n",
      "\n",
      "                                         region      std1      std2   tvalues  \n",
      "0  Right Temporal pole: superior temporal gyrus  0.164339  0.075368  5.790482  \n",
      "1                                 Left Thalamus  0.123032  0.086461  4.379310  \n",
      "2                           Right Angular gyrus  0.108359  0.077962  4.072596  \n",
      "3                            Right Gyrus rectus  0.162048  0.130628  3.561311  \n",
      "4                   Right Middle temporal gyrus  0.107156  0.084331  3.320172  \n",
      "5                                   Left Insula  0.193873  0.132964  3.301330  \n",
      "6  Left Inferior frontal gyrus, triangular part  0.143345  0.087424  2.859182  \n"
     ]
    }
   ],
   "source": [
    "print(\"HRA-ASD/Control comparison\")\n",
    "generateTables(\"5\", \"7\")"
   ]
  },
  {
   "cell_type": "code",
   "execution_count": 12,
   "metadata": {
    "collapsed": false
   },
   "outputs": [
    {
     "name": "stdout",
     "output_type": "stream",
     "text": [
      "HRA-noASD/Control comparison\n",
      "       mean1     mean2   pvalues  \\\n",
      "0   0.910508  0.846264  0.000009   \n",
      "1   0.827088  0.696273  0.000123   \n",
      "2   0.839318  0.698309  0.000201   \n",
      "3   0.865074  0.767779  0.000418   \n",
      "4   0.841212  0.716777  0.001302   \n",
      "5   0.887441  0.799194  0.002446   \n",
      "6   0.877624  0.799585  0.002494   \n",
      "7   0.873014  0.769778  0.002809   \n",
      "8   0.799794  0.856115  0.003136   \n",
      "9   0.846920  0.729171  0.003318   \n",
      "10  0.898976  0.848100  0.004591   \n",
      "11  0.839085  0.703095  0.004699   \n",
      "12  0.856663  0.780374  0.005709   \n",
      "\n",
      "                                               region      std1      std2  \\\n",
      "0                          Left Middle temporal gyrus  0.032626  0.045670   \n",
      "1                                      Right Thalamus  0.074992  0.141626   \n",
      "2       Right Inferior frontal gyrus, triangular part  0.102587  0.155377   \n",
      "3         Left Superior frontal gyrus, medial orbital  0.087381  0.099560   \n",
      "4          Right Superior frontal gyrus, orbital part  0.117238  0.155467   \n",
      "5                       Left Supplementary motor area  0.073932  0.117648   \n",
      "6                       Right Inferior temporal gyrus  0.090456  0.087775   \n",
      "7                         Left Middle occipital gyrus  0.067878  0.142727   \n",
      "8                                 Right Lingual gyrus  0.070142  0.062508   \n",
      "9   Right Inferior parietal, but supramarginal and...  0.125519  0.161676   \n",
      "10     Left Anterior cingulate and paracingulate gyri  0.064524  0.055630   \n",
      "11            Left Middle frontal gyrus, orbital part  0.122776  0.201344   \n",
      "12                                 Right Heschl gyrus  0.083396  0.103366   \n",
      "\n",
      "     tvalues  \n",
      "0  -4.995538  \n",
      "1  -4.101903  \n",
      "2  -3.952656  \n",
      "3  -3.748232  \n",
      "4  -3.371417  \n",
      "5  -3.168399  \n",
      "6  -3.169653  \n",
      "7  -3.120982  \n",
      "8   3.092818  \n",
      "9  -3.054767  \n",
      "10 -2.968011  \n",
      "11 -2.934778  \n",
      "12 -2.876676  \n"
     ]
    }
   ],
   "source": [
    "print(\"HRA-noASD/Control comparison\")\n",
    "generateTables(\"6\", \"7\")"
   ]
  },
  {
   "cell_type": "code",
   "execution_count": 14,
   "metadata": {
    "collapsed": false
   },
   "outputs": [
    {
     "name": "stdout",
     "output_type": "stream",
     "text": [
      "90\n",
      "0.0005555555555555556\n"
     ]
    }
   ],
   "source": [
    "numberOfRegions           = len(rowNames)\n",
    "levelOfSignificance       = 0.05\n",
    "bonferroniCorrectedSignif = levelOfSignificance/numberOfRegions\n",
    "print(numberOfRegions)\n",
    "print("
   ]
  }
 ],
 "metadata": {
  "kernelspec": {
   "display_name": "Python 3",
   "language": "python",
   "name": "python3"
  },
  "language_info": {
   "codemirror_mode": {
    "name": "ipython",
    "version": 3
   },
   "file_extension": ".py",
   "mimetype": "text/x-python",
   "name": "python",
   "nbconvert_exporter": "python",
   "pygments_lexer": "ipython3",
   "version": "3.4.3"
  }
 },
 "nbformat": 4,
 "nbformat_minor": 0
}
